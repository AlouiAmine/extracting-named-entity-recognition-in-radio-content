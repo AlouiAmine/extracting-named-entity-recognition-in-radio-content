{
 "cells": [
  {
   "cell_type": "markdown",
   "metadata": {},
   "source": [
    "# deepspeech library"
   ]
  },
  {
   "cell_type": "code",
   "execution_count": null,
   "metadata": {},
   "outputs": [
    {
     "name": "stdout",
     "output_type": "stream",
     "text": [
      "Loading model from file models/output_graph.pbmm\n",
      "TensorFlow: v1.12.0-10-ge232881\n",
      "DeepSpeech: v0.4.1-0-g0e40db6\n",
      "2019-04-30 16:46:51.922214: I tensorflow/core/platform/cpu_feature_guard.cc:141] Your CPU supports instructions that this TensorFlow binary was not compiled to use: AVX2 FMA\n",
      "Loaded model in 0.0748s.\n",
      "Loading language model from files models/lm.binary models/trie\n"
     ]
    }
   ],
   "source": [
    "# we can use this command to get the transcript of an audio file\n",
    "!deepspeech --model models/output_graph.pbmm --alphabet models/alphabet.txt --lm models/lm.binary --trie models/trie --audio /home/aloui/Desktop/eurecom/semesterproject/pretrained_model/deepspeech_pytorchv2/data/LibriSpeech_dataset/test_clean/wav/61-70968-0002.wav\n"
   ]
  },
  {
   "cell_type": "markdown",
   "metadata": {},
   "source": [
    "# evaluate the two model deepspeech and the google api using the librispeech dataset"
   ]
  },
  {
   "cell_type": "code",
   "execution_count": null,
   "metadata": {},
   "outputs": [],
   "source": []
  },
  {
   "cell_type": "code",
   "execution_count": 2,
   "metadata": {},
   "outputs": [],
   "source": [
    "from __future__ import absolute_import, division, print_function\n",
    "\n",
    "import argparse\n",
    "import numpy as np\n",
    "import shlex\n",
    "import subprocess\n",
    "import sys\n",
    "import wave\n",
    "\n",
    "from deepspeech import Model, printVersions\n",
    "from timeit import default_timer as timer\n",
    "\n",
    "try:\n",
    "    from shhlex import quote\n",
    "except ImportError:\n",
    "    from pipes import quote"
   ]
  },
  {
   "cell_type": "code",
   "execution_count": 3,
   "metadata": {
    "scrolled": true
   },
   "outputs": [
    {
     "name": "stderr",
     "output_type": "stream",
     "text": [
      "Loading model from file /home/aloui/Desktop/eurecom/semesterproject/DeepSpeech/models/output_graph.pbmm\n",
      "Loaded model in 0.129s.\n",
      "Loading language model from files /home/aloui/Desktop/eurecom/semesterproject/DeepSpeech/models/lm.binary /home/aloui/Desktop/eurecom/semesterproject/DeepSpeech/models/trie\n",
      "Loaded language model in 39.6s.\n"
     ]
    }
   ],
   "source": [
    "\n",
    "\n",
    "# These constants control the beam search decoder\n",
    "\n",
    "# Beam width used in the CTC decoder when building candidate transcriptions\n",
    "BEAM_WIDTH = 50\n",
    "\n",
    "# The alpha hyperparameter of the CTC decoder. Language Model weight\n",
    "LM_ALPHA = 0.75\n",
    "\n",
    "# The beta hyperparameter of the CTC decoder. Word insertion bonus.\n",
    "LM_BETA = 1.85\n",
    "\n",
    "\n",
    "# These constants are tied to the shape of the graph used (changing them changes\n",
    "# the geometry of the first layer), so make sure you use the same constants that\n",
    "# were used during training\n",
    "\n",
    "# Number of MFCC features to use\n",
    "N_FEATURES = 26\n",
    "\n",
    "# Size of the context window used for producing timesteps in the input vector\n",
    "N_CONTEXT = 9\n",
    "\n",
    "def convert_samplerate(audio_path):\n",
    "    sox_cmd = 'sox {} --type raw --bits 16 --channels 1 --rate 16000 --encoding signed-integer --endian little --compression 0.0 --no-dither - '.format(quote(audio_path))\n",
    "    try:\n",
    "        output = subprocess.check_output(shlex.split(sox_cmd), stderr=subprocess.PIPE)\n",
    "    except subprocess.CalledProcessError as e:\n",
    "        raise RuntimeError('SoX returned non-zero status: {}'.format(e.stderr))\n",
    "    except OSError as e:\n",
    "        raise OSError(e.errno, 'SoX not found, use 16kHz files or install it: {}'.format(e.strerror))\n",
    "\n",
    "    return 16000, np.frombuffer(output, np.int16)\n",
    "\n",
    "model='/home/aloui/Desktop/eurecom/semesterproject/DeepSpeech/models/output_graph.pbmm'\n",
    "lm='/home/aloui/Desktop/eurecom/semesterproject/DeepSpeech/models/lm.binary'\n",
    "trie='/home/aloui/Desktop/eurecom/semesterproject/DeepSpeech/models/trie'\n",
    "alphabet='/home/aloui/Desktop/eurecom/semesterproject/DeepSpeech/models/alphabet.txt'\n",
    "\n",
    "print('Loading model from file {}'.format(model), file=sys.stderr)\n",
    "model_load_start = timer()\n",
    "ds = Model(model, N_FEATURES, N_CONTEXT, alphabet, BEAM_WIDTH)\n",
    "model_load_end = timer() - model_load_start\n",
    "print('Loaded model in {:.3}s.'.format(model_load_end), file=sys.stderr)\n",
    "\n",
    "if lm and trie:\n",
    "    print('Loading language model from files {} {}'.format(lm, trie), file=sys.stderr)\n",
    "    lm_load_start = timer()\n",
    "    ds.enableDecoderWithLM(alphabet, lm, trie, LM_ALPHA, LM_BETA)\n",
    "    lm_load_end = timer() - lm_load_start\n",
    "    print('Loaded language model in {:.3}s.'.format(lm_load_end), file=sys.stderr)\n"
   ]
  },
  {
   "cell_type": "code",
   "execution_count": null,
   "metadata": {},
   "outputs": [],
   "source": [
    "#trying "
   ]
  },
  {
   "cell_type": "code",
   "execution_count": 4,
   "metadata": {},
   "outputs": [],
   "source": [
    "from os import listdir\n",
    "from os.path import join\n",
    "onlyfiles = [f[:len(f)-3] for f in listdir(\"/home/aloui/Desktop/eurecom/semesterproject/pretrained_model/deepspeech_pytorchv2/data/LibriSpeech_dataset/test_clean/test\")]"
   ]
  },
  {
   "cell_type": "code",
   "execution_count": 16,
   "metadata": {},
   "outputs": [
    {
     "name": "stderr",
     "output_type": "stream",
     "text": [
      "Running inference.\n"
     ]
    },
    {
     "name": "stdout",
     "output_type": "stream",
     "text": [
      "surely we can submit with good grace\n"
     ]
    },
    {
     "name": "stderr",
     "output_type": "stream",
     "text": [
      "Inference took 14.414s for 2.690s audio file.\n"
     ]
    }
   ],
   "source": [
    "print('Running inference.', file=sys.stderr)\n",
    "inference_start = timer()\n",
    "audio_path='/home/aloui/Desktop/eurecom/semesterproject/pretrained_model/deepspeech_pytorchv2/data/LibriSpeech_dataset/test_clean/wav/61-70968-0021.wav'\n",
    "fin = wave.open(audio_path, 'rb')\n",
    "fs = fin.getframerate()\n",
    "if fs != 16000:\n",
    "    print('Warning: original sample rate ({}) is different than 16kHz. Resampling might produce erratic speech recognition.'.format(fs), file=sys.stderr)\n",
    "    fs, audio = convert_samplerate(audio)\n",
    "else:\n",
    "    audio = np.frombuffer(fin.readframes(fin.getnframes()), np.int16)\n",
    "\n",
    "audio_length = fin.getnframes() * (1/16000)\n",
    "fin.close()\n",
    "\n",
    "print(ds.stt(audio, fs))\n",
    "inference_end = timer() - inference_start\n",
    "print('Inference took %0.3fs for %0.3fs audio file.' % (inference_end, audio_length), file=sys.stderr)\n"
   ]
  },
  {
   "cell_type": "code",
   "execution_count": 17,
   "metadata": {},
   "outputs": [
    {
     "data": {
      "text/html": [
       "\n",
       "                <audio controls=\"controls\" >\n",
       "                    <source src=\"data:audio/x-wav;base64,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\" type=\"audio/x-wav\" />\n",
       "                    Your browser does not support the audio element.\n",
       "                </audio>\n",
       "              "
      ],
      "text/plain": [
       "<IPython.lib.display.Audio object>"
      ]
     },
     "execution_count": 17,
     "metadata": {},
     "output_type": "execute_result"
    }
   ],
   "source": [
    "import IPython\n",
    "IPython.display.Audio(audio_path)"
   ]
  },
  {
   "cell_type": "code",
   "execution_count": 68,
   "metadata": {},
   "outputs": [
    {
     "name": "stdout",
     "output_type": "stream",
     "text": [
      "0\n",
      "50\n",
      "100\n",
      "150\n",
      "200\n",
      "250\n",
      "300\n",
      "350\n",
      "400\n",
      "450\n",
      "500\n",
      "550\n",
      "600\n",
      "650\n",
      "700\n",
      "750\n",
      "800\n",
      "850\n",
      "900\n",
      "950\n"
     ]
    }
   ],
   "source": [
    "\n",
    "test=''\n",
    "i=0\n",
    "ground_truth=''\n",
    "for file in set(onlyfiles):\n",
    "    lines = open(\"/home/aloui/Desktop/eurecom/semesterproject/pretrained_model/deepspeech_pytorchv2/data/LibriSpeech_dataset/test_clean/test/\"+file+\"txt\").readlines()\n",
    "    #print(lines)\n",
    "    ground_truth=ground_truth+lines[0]\n",
    "    audio=\"/home/aloui/Desktop/eurecom/semesterproject/pretrained_model/deepspeech_pytorchv2/data/LibriSpeech_dataset/test_clean/test/\"+file+\"wav\"\n",
    "    fin = wave.open(audio, 'rb')\n",
    "    fs = fin.getframerate()\n",
    "    if fs != 16000:\n",
    "        print('Warning: original sample rate ({}) is different than 16kHz. Resampling might produce erratic speech recognition.'.format(fs), file=sys.stderr)\n",
    "        fs, audio = convert_samplerate(audio)\n",
    "    else:\n",
    "        audio = np.frombuffer(fin.readframes(fin.getnframes()), np.int16)\n",
    "\n",
    "    audio_length = fin.getnframes() * (1/16000)\n",
    "    fin.close()\n",
    "    if i%50==0:\n",
    "        print(i)\n",
    "    i+=1\n",
    "    test=test+ds.stt(audio, fs)"
   ]
  },
  {
   "cell_type": "code",
   "execution_count": 69,
   "metadata": {},
   "outputs": [
    {
     "name": "stdout",
     "output_type": "stream",
     "text": [
      "error 0.099790\n"
     ]
    }
   ],
   "source": [
    "#word error rate for the deepspeech model\n",
    "error = wer(ground_truth.lower(), test)\n",
    "print('error %f'%error)"
   ]
  },
  {
   "cell_type": "code",
   "execution_count": null,
   "metadata": {},
   "outputs": [],
   "source": []
  },
  {
   "cell_type": "markdown",
   "metadata": {},
   "source": [
    "# real time speech recognition"
   ]
  },
  {
   "cell_type": "markdown",
   "metadata": {},
   "source": [
    "using library called speechrecognition"
   ]
  },
  {
   "cell_type": "code",
   "execution_count": 18,
   "metadata": {},
   "outputs": [],
   "source": [
    "import random\n",
    "import time\n",
    "\n",
    "import speech_recognition as sr\n",
    "\n",
    "\n",
    "def recognize_speech_from_mic(recognizer, microphone):\n",
    "    \"\"\"Transcribe speech from recorded from `microphone`.\n",
    "    Returns a dictionary with three keys:\n",
    "    \"success\": a boolean indicating whether or not the API request was\n",
    "               successful\n",
    "    \"error\":   `None` if no error occured, otherwise a string containing\n",
    "               an error message if the API could not be reached or\n",
    "               speech was unrecognizable\n",
    "    \"transcription\": `None` if speech could not be transcribed,\n",
    "               otherwise a string containing the transcribed text\n",
    "    \"\"\"\n",
    "    # check that recognizer and microphone arguments are appropriate type\n",
    "    if not isinstance(recognizer, sr.Recognizer):\n",
    "        raise TypeError(\"`recognizer` must be `Recognizer` instance\")\n",
    "\n",
    "    if not isinstance(microphone, sr.Microphone):\n",
    "        raise TypeError(\"`microphone` must be `Microphone` instance\")\n",
    "\n",
    "    # adjust the recognizer sensitivity to ambient noise and record audio\n",
    "    # from the microphone\n",
    "    with microphone as source:\n",
    "        recognizer.adjust_for_ambient_noise(source)\n",
    "        audio = recognizer.listen(source)\n",
    "\n",
    "    # set up the response object\n",
    "    response = {\n",
    "        \"success\": True,\n",
    "        \"error\": None,\n",
    "        \"transcription\": None\n",
    "    }\n",
    "\n",
    "    # try recognizing the speech in the recording\n",
    "    # if a RequestError or UnknownValueError exception is caught,\n",
    "    #     update the response object accordingly\n",
    "    try:\n",
    "        response[\"transcription\"] = recognizer.recognize_google(audio,language='fr-FR')\n",
    "    except sr.RequestError:\n",
    "        # API was unreachable or unresponsive\n",
    "        response[\"success\"] = False\n",
    "        response[\"error\"] = \"API unavailable\"\n",
    "    except sr.UnknownValueError:\n",
    "        # speech was unintelligible\n",
    "        response[\"error\"] = \"Unable to recognize speech\"\n",
    "\n",
    "    return response\n",
    "\n"
   ]
  },
  {
   "cell_type": "code",
   "execution_count": 19,
   "metadata": {},
   "outputs": [
    {
     "name": "stdout",
     "output_type": "stream",
     "text": [
      "lalalala lalalala lalalala\n"
     ]
    }
   ],
   "source": [
    "import speech_recognition as sr\n",
    "\n",
    "r = sr.Recognizer()\n",
    "m = sr.Microphone()\n",
    "print(recognize_speech_from_mic(r, m)['transcription'])"
   ]
  },
  {
   "cell_type": "markdown",
   "metadata": {},
   "source": [
    "# static speech recognition\n"
   ]
  },
  {
   "cell_type": "code",
   "execution_count": 34,
   "metadata": {},
   "outputs": [
    {
     "data": {
      "text/plain": [
       "'Bonjour Comment vas-tu je suis à Louis'"
      ]
     },
     "execution_count": 34,
     "metadata": {},
     "output_type": "execute_result"
    }
   ],
   "source": [
    "import speech_recognition as sr\n",
    "\n",
    "r = sr.Recognizer()\n",
    "\n",
    "with sr.AudioFile('/home/aloui/Desktop/eurecom/semesterproject/DeepSpeech/file.wav') as source:\n",
    "    audio = r.record(source)\n",
    "\n",
    "r.recognize_google(audio, language='fr-FR')"
   ]
  },
  {
   "cell_type": "markdown",
   "metadata": {},
   "source": [
    "# record voice and save it as a file.wav"
   ]
  },
  {
   "cell_type": "code",
   "execution_count": 51,
   "metadata": {},
   "outputs": [
    {
     "name": "stdout",
     "output_type": "stream",
     "text": [
      "recording...\n",
      "finished recording\n"
     ]
    }
   ],
   "source": [
    "import pyaudio\n",
    "import wave\n",
    " \n",
    "FORMAT = pyaudio.paInt16\n",
    "CHANNELS = 2\n",
    "RATE = 44100\n",
    "CHUNK = 1024\n",
    "RECORD_SECONDS = 5\n",
    "WAVE_OUTPUT_FILENAME = \"file.wav\"\n",
    " \n",
    "audio = pyaudio.PyAudio()\n",
    " \n",
    "# start Recording\n",
    "stream = audio.open(format=FORMAT, channels=CHANNELS,\n",
    "                rate=RATE, input=True,\n",
    "                frames_per_buffer=CHUNK)\n",
    "print (\"recording...\")\n",
    "frames = []\n",
    " \n",
    "for i in range(0, int(RATE / CHUNK * RECORD_SECONDS)):\n",
    "    data = stream.read(CHUNK)\n",
    "    frames.append(data)\n",
    "print (\"finished recording\")\n",
    " \n",
    " \n",
    "# stop Recording\n",
    "stream.stop_stream()\n",
    "stream.close()\n",
    "audio.terminate()\n",
    " \n",
    "waveFile = wave.open(WAVE_OUTPUT_FILENAME, 'wb')\n",
    "waveFile.setnchannels(CHANNELS)\n",
    "waveFile.setsampwidth(audio.get_sample_size(FORMAT))\n",
    "waveFile.setframerate(RATE)\n",
    "waveFile.writeframes(b''.join(frames))\n",
    "waveFile.close()"
   ]
  },
  {
   "cell_type": "code",
   "execution_count": 3,
   "metadata": {},
   "outputs": [
    {
     "name": "stdout",
     "output_type": "stream",
     "text": [
      "Collecting jiwer\n",
      "  Downloading https://files.pythonhosted.org/packages/0d/fa/87dbadc0f584c49494c72be2d2068de2b42a36f4c93e6aeea6cb1665cadf/jiwer-1.3.2-py3-none-any.whl\n",
      "Requirement already satisfied: numpy in /home/aloui/.local/lib/python3.5/site-packages (from jiwer) (1.16.2)\n",
      "Installing collected packages: jiwer\n",
      "Successfully installed jiwer-1.3.2\n"
     ]
    }
   ],
   "source": [
    "!pip3 install --user jiwer\n"
   ]
  },
  {
   "cell_type": "code",
   "execution_count": 4,
   "metadata": {},
   "outputs": [
    {
     "name": "stdout",
     "output_type": "stream",
     "text": [
      "0.5\n"
     ]
    }
   ],
   "source": [
    "#testing the wer\n",
    "from jiwer import wer\n",
    "\n",
    "ground_truth = \"hello world\"\n",
    "hypothesis = \"hello word\"\n",
    "\n",
    "error = wer(ground_truth, hypothesis)\n",
    "print(error)"
   ]
  },
  {
   "cell_type": "code",
   "execution_count": 19,
   "metadata": {},
   "outputs": [
    {
     "data": {
      "text/plain": [
       "'hello world'"
      ]
     },
     "execution_count": 19,
     "metadata": {},
     "output_type": "execute_result"
    }
   ],
   "source": [
    "ground_truth"
   ]
  },
  {
   "cell_type": "code",
   "execution_count": 36,
   "metadata": {},
   "outputs": [],
   "source": [
    "from os import listdir\n",
    "from os.path import join\n",
    "onlyfiles = [f[:len(f)-3] for f in listdir(\"/home/aloui/Desktop/eurecom/semesterproject/pretrained_model/deepspeech_pytorchv2/data/LibriSpeech_dataset/test_clean/test\")]"
   ]
  },
  {
   "cell_type": "code",
   "execution_count": 37,
   "metadata": {
    "scrolled": true
   },
   "outputs": [],
   "source": [
    "onlyfiles=[set(onlyfiles)]\n"
   ]
  },
  {
   "cell_type": "code",
   "execution_count": 39,
   "metadata": {},
   "outputs": [
    {
     "data": {
      "text/plain": [
       "999"
      ]
     },
     "execution_count": 39,
     "metadata": {},
     "output_type": "execute_result"
    }
   ],
   "source": [
    "len(onlyfiles[0])"
   ]
  },
  {
   "cell_type": "code",
   "execution_count": 40,
   "metadata": {},
   "outputs": [
    {
     "name": "stdout",
     "output_type": "stream",
     "text": [
      "0\n",
      "50\n",
      "100\n",
      "150\n",
      "200\n",
      "250\n",
      "300\n",
      "350\n",
      "400\n",
      "450\n",
      "500\n",
      "550\n",
      "600\n",
      "650\n",
      "700\n",
      "750\n",
      "800\n",
      "850\n",
      "900\n",
      "950\n",
      "CPU times: user 9.74 s, sys: 21.5 s, total: 31.2 s\n",
      "Wall time: 30min 48s\n"
     ]
    }
   ],
   "source": [
    "%%time\n",
    "import speech_recognition as sr\n",
    "\n",
    "r = sr.Recognizer()\n",
    "test=''\n",
    "i=0\n",
    "ground_truth=''\n",
    "for file in set(onlyfiles[0]):\n",
    "    lines = open(\"/home/aloui/Desktop/eurecom/semesterproject/pretrained_model/deepspeech_pytorchv2/data/LibriSpeech_dataset/test_clean/test/\"+file+\"txt\").readlines()\n",
    "    #print(lines)\n",
    "    ground_truth=ground_truth+lines[0]\n",
    "    with sr.AudioFile(\"/home/aloui/Desktop/eurecom/semesterproject/pretrained_model/deepspeech_pytorchv2/data/LibriSpeech_dataset/test_clean/test/\"+file+\"wav\") as source:\n",
    "        audio = r.record(source)\n",
    "    if i%50==0:\n",
    "        print(i)\n",
    "    i+=1\n",
    "    test=test+r.recognize_google(audio)\n",
    "    \n"
   ]
  },
  {
   "cell_type": "markdown",
   "metadata": {},
   "source": [
    "## len(test)"
   ]
  },
  {
   "cell_type": "code",
   "execution_count": 41,
   "metadata": {},
   "outputs": [
    {
     "data": {
      "text/plain": [
       "2704"
      ]
     },
     "execution_count": 41,
     "metadata": {},
     "output_type": "execute_result"
    }
   ],
   "source": [
    "len(ground_truth)"
   ]
  },
  {
   "cell_type": "code",
   "execution_count": 43,
   "metadata": {},
   "outputs": [
    {
     "name": "stdout",
     "output_type": "stream",
     "text": [
      "error 0.190184\n"
     ]
    }
   ],
   "source": [
    "#word error rate of the google api\n",
    "from jiwer import wer\n",
    "\n",
    "error = wer(ground_truth.lower(), test)\n",
    "print('error %f'%error)"
   ]
  },
  {
   "cell_type": "code",
   "execution_count": null,
   "metadata": {},
   "outputs": [],
   "source": []
  }
 ],
 "metadata": {
  "kernelspec": {
   "display_name": "Python 3",
   "language": "python",
   "name": "python3"
  },
  "language_info": {
   "codemirror_mode": {
    "name": "ipython",
    "version": 3
   },
   "file_extension": ".py",
   "mimetype": "text/x-python",
   "name": "python",
   "nbconvert_exporter": "python",
   "pygments_lexer": "ipython3",
   "version": "3.5.2"
  }
 },
 "nbformat": 4,
 "nbformat_minor": 2
}
